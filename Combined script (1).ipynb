{
 "cells": [
  {
   "cell_type": "code",
   "execution_count": null,
   "id": "57018766",
   "metadata": {},
   "outputs": [
    {
     "name": "stdout",
     "output_type": "stream",
     "text": [
      "Files already downloaded and verified\n",
      "Training with 540 data points...\n",
      "Training with 2700 data points...\n",
      "Training with 5400 data points...\n",
      "Training with 11880 data points...\n",
      "Training with 450 data points...\n",
      "Training with 2250 data points...\n",
      "Training with 4500 data points...\n",
      "Training with 9900 data points...\n"
     ]
    }
   ],
   "source": [
    "import torch\n",
    "import torchvision\n",
    "import numpy as np\n",
    "from copy import deepcopy\n",
    "import matplotlib.pyplot as plt\n",
    "from tqdm import tqdm\n",
    "\n",
    "# Hyperparameters\n",
    "val_split = 0.1\n",
    "lr = 0.0005\n",
    "batch_size = 64\n",
    "num_epochs = 10\n",
    "\n",
    "# Datasets\n",
    "transform_mnist = torchvision.transforms.Compose([\n",
    "    torchvision.transforms.ToTensor(),\n",
    "    torchvision.transforms.Normalize((0.5,), (0.5,))\n",
    "])\n",
    "transform_cifar = torchvision.transforms.Compose([\n",
    "    torchvision.transforms.ToTensor(),\n",
    "    torchvision.transforms.Normalize((0.5, 0.5, 0.5), (0.5, 0.5, 0.5))\n",
    "])\n",
    "\n",
    "mnist_train = torchvision.datasets.MNIST(root='./data', train=True, download=True, transform=transform_mnist)\n",
    "cifar_train = torchvision.datasets.CIFAR10(root='./data', train=True, download=True, transform=transform_cifar)\n",
    "\n",
    "# Validation split\n",
    "def split_data(dataset, val_split=0.1):\n",
    "    train_size = int((1 - val_split) * len(dataset))\n",
    "    val_size = len(dataset) - train_size\n",
    "    train_set, val_set = torch.utils.data.random_split(dataset, [train_size, val_size])\n",
    "    return train_set, val_set\n",
    "\n",
    "mnist_train_set, mnist_val_set = split_data(mnist_train)\n",
    "cifar_train_set, cifar_val_set = split_data(cifar_train)\n",
    "\n",
    "# DataLoader\n",
    "def get_loader(dataset, batch_size, shuffle=True):\n",
    "    return torch.utils.data.DataLoader(dataset, batch_size=batch_size, shuffle=shuffle)\n",
    "\n",
    "mnist_val_loader = get_loader(mnist_val_set, batch_size=1024, shuffle=False)\n",
    "cifar_val_loader = get_loader(cifar_val_set, batch_size=1024, shuffle=False)\n",
    "\n",
    "# Model Setup\n",
    "def get_model(dataset_name):\n",
    "    if dataset_name == 'mnist':\n",
    "        model = torchvision.models.resnet18(pretrained=False)\n",
    "        model.conv1 = torch.nn.Conv2d(1, 64, kernel_size=(7, 7), stride=(2, 2), padding=(3, 3), bias=False)\n",
    "        model.fc = torch.nn.Linear(model.fc.in_features, 10)\n",
    "    elif dataset_name == 'cifar':\n",
    "        model = torchvision.models.resnet18(pretrained=False)\n",
    "        model.fc = torch.nn.Linear(model.fc.in_features, 10)\n",
    "    return model\n",
    "\n",
    "# Training and Validation\n",
    "def train_and_validate(model, train_loader, val_loader, criterion, optimizer, device, num_epochs=10):\n",
    "    model.to(device)\n",
    "    for epoch in range(num_epochs):\n",
    "        model.train()\n",
    "        for images, labels in train_loader:\n",
    "            images, labels = images.to(device), labels.to(device)\n",
    "            optimizer.zero_grad()\n",
    "            outputs = model(images)\n",
    "            loss = criterion(outputs, labels)\n",
    "            loss.backward()\n",
    "            optimizer.step()\n",
    "\n",
    "    # Validation\n",
    "    model.eval()\n",
    "    correct, total = 0, 0\n",
    "    with torch.no_grad():\n",
    "        for images, labels in val_loader:\n",
    "            images, labels = images.to(device), labels.to(device)\n",
    "            outputs = model(images)\n",
    "            _, predicted = torch.max(outputs, 1)\n",
    "            total += labels.size(0)\n",
    "            correct += (predicted == labels).sum().item()\n",
    "    return 100 * correct / total\n",
    "\n",
    "# Experiment for Data Scaling\n",
    "def data_scaling_experiment(train_dataset, val_loader, dataset_name):\n",
    "    device = torch.device('cuda' if torch.cuda.is_available() else 'cpu')\n",
    "    if device.type == 'cuda':\n",
    "        torch.cuda.set_per_process_memory_fraction(0.8)\n",
    "    data_sizes = [0.01, 0.05, 0.1, 0.22]\n",
    "    accuracies = []\n",
    "\n",
    "    for size in data_sizes:\n",
    "        subset_size = int(size * len(train_dataset))\n",
    "        train_subset, _ = torch.utils.data.random_split(train_dataset, [subset_size, len(train_dataset) - subset_size])\n",
    "        train_loader = get_loader(train_subset, batch_size=batch_size)\n",
    "\n",
    "        model = get_model(dataset_name)\n",
    "        criterion = torch.nn.CrossEntropyLoss()\n",
    "        optimizer = torch.optim.Adam(model.parameters(), lr=lr)\n",
    "\n",
    "        print(f\"Training with {subset_size} data points...\")\n",
    "        accuracy = train_and_validate(model, train_loader, val_loader, criterion, optimizer, device, num_epochs)\n",
    "        accuracies.append(accuracy)\n",
    "\n",
    "    return data_sizes, accuracies\n",
    "\n",
    "# Run Experiments\n",
    "mnist_sizes, mnist_accuracies = data_scaling_experiment(mnist_train_set, mnist_val_loader, 'mnist')\n",
    "cifar_sizes, cifar_accuracies = data_scaling_experiment(cifar_train_set, cifar_val_loader, 'cifar')\n",
    "\n",
    "#%%\n",
    "# Plot Results\n",
    "plt.figure(figsize=(10, 6))\n",
    "plt.plot([s * len(mnist_train_set) for s in mnist_sizes], mnist_accuracies, label='MNIST')\n",
    "plt.plot([s * len(cifar_train_set) for s in cifar_sizes], cifar_accuracies, label='CIFAR-10')\n",
    "plt.xlabel('Number of Labeled Data Points', fontsize=15)\n",
    "plt.ylabel('Validation Accuracy (%)', fontsize=15)\n",
    "plt.title('Accuracy vs. Labeled Data Points')\n",
    "plt.xticks(fontsize = 12)\n",
    "plt.yticks(fontsize = 12)\n",
    "\n",
    "plt.legend()\n",
    "plt.grid()\n",
    "plt.show()\n"
   ]
  },
  {
   "cell_type": "code",
   "execution_count": 2,
   "id": "22826d93",
   "metadata": {},
   "outputs": [
    {
     "name": "stdout",
     "output_type": "stream",
     "text": [
      "True\n",
      "NVIDIA GeForce RTX 2080 SUPER\n"
     ]
    }
   ],
   "source": [
    "import torch\n",
    "print(torch.cuda.is_available())  # Returns True if GPU is available\n",
    "print(torch.cuda.get_device_name(0))  # Prints the name of the GPU if available"
   ]
  },
  {
   "cell_type": "code",
   "execution_count": 3,
   "id": "662daf3b",
   "metadata": {},
   "outputs": [
    {
     "name": "stderr",
     "output_type": "stream",
     "text": [
      "D:\\Python\\lib\\site-packages\\torchvision\\models\\_utils.py:208: UserWarning: The parameter 'pretrained' is deprecated since 0.13 and may be removed in the future, please use 'weights' instead.\n",
      "  warnings.warn(\n",
      "D:\\Python\\lib\\site-packages\\torchvision\\models\\_utils.py:223: UserWarning: Arguments other than a weight enum or `None` for 'weights' are deprecated since 0.13 and may be removed in the future. The current behavior is equivalent to passing `weights=None`.\n",
      "  warnings.warn(msg)\n",
      " 11%|█         | 11/100 [00:02<00:34,  2.60it/s]"
     ]
    },
    {
     "name": "stdout",
     "output_type": "stream",
     "text": [
      "Epoch 10, Accuracy: 88.92%\n"
     ]
    },
    {
     "name": "stderr",
     "output_type": "stream",
     "text": [
      " 21%|██        | 21/100 [00:05<00:29,  2.64it/s]"
     ]
    },
    {
     "name": "stdout",
     "output_type": "stream",
     "text": [
      "Epoch 20, Accuracy: 89.73%\n"
     ]
    },
    {
     "name": "stderr",
     "output_type": "stream",
     "text": [
      " 31%|███       | 31/100 [00:08<00:25,  2.66it/s]"
     ]
    },
    {
     "name": "stdout",
     "output_type": "stream",
     "text": [
      "Epoch 30, Accuracy: 89.87%\n"
     ]
    },
    {
     "name": "stderr",
     "output_type": "stream",
     "text": [
      " 41%|████      | 41/100 [00:10<00:22,  2.66it/s]"
     ]
    },
    {
     "name": "stdout",
     "output_type": "stream",
     "text": [
      "Epoch 40, Accuracy: 89.88%\n"
     ]
    },
    {
     "name": "stderr",
     "output_type": "stream",
     "text": [
      " 51%|█████     | 51/100 [00:13<00:18,  2.67it/s]"
     ]
    },
    {
     "name": "stdout",
     "output_type": "stream",
     "text": [
      "Epoch 50, Accuracy: 89.98%\n"
     ]
    },
    {
     "name": "stderr",
     "output_type": "stream",
     "text": [
      " 61%|██████    | 61/100 [00:15<00:14,  2.67it/s]"
     ]
    },
    {
     "name": "stdout",
     "output_type": "stream",
     "text": [
      "Epoch 60, Accuracy: 90.12%\n"
     ]
    },
    {
     "name": "stderr",
     "output_type": "stream",
     "text": [
      " 71%|███████   | 71/100 [00:18<00:10,  2.66it/s]"
     ]
    },
    {
     "name": "stdout",
     "output_type": "stream",
     "text": [
      "Epoch 70, Accuracy: 90.12%\n"
     ]
    },
    {
     "name": "stderr",
     "output_type": "stream",
     "text": [
      " 81%|████████  | 81/100 [00:20<00:07,  2.65it/s]"
     ]
    },
    {
     "name": "stdout",
     "output_type": "stream",
     "text": [
      "Epoch 80, Accuracy: 90.28%\n"
     ]
    },
    {
     "name": "stderr",
     "output_type": "stream",
     "text": [
      " 91%|█████████ | 91/100 [00:23<00:03,  2.67it/s]"
     ]
    },
    {
     "name": "stdout",
     "output_type": "stream",
     "text": [
      "Epoch 90, Accuracy: 90.15%\n"
     ]
    },
    {
     "name": "stderr",
     "output_type": "stream",
     "text": [
      "100%|██████████| 100/100 [00:25<00:00,  3.86it/s]\n",
      "  1%|          | 7/836 [00:00<00:11, 69.47it/s]"
     ]
    },
    {
     "name": "stdout",
     "output_type": "stream",
     "text": [
      "Epoch 100, Accuracy: 90.12%\n"
     ]
    },
    {
     "name": "stderr",
     "output_type": "stream",
     "text": [
      "100%|██████████| 836/836 [00:12<00:00, 69.58it/s]\n",
      "<ipython-input-3-84e47a20a3f5>:139: UserWarning: Creating a tensor from a list of numpy.ndarrays is extremely slow. Please consider converting the list to a single numpy.ndarray with numpy.array() before converting to a tensor. (Triggered internally at C:\\actions-runner\\_work\\pytorch\\pytorch\\builder\\windows\\pytorch\\torch\\csrc\\utils\\tensor_new.cpp:281.)\n",
      "  predictions = torch.tensor(predictions)\n"
     ]
    },
    {
     "name": "stdout",
     "output_type": "stream",
     "text": [
      "Adding 2673 images to training set\n"
     ]
    },
    {
     "name": "stderr",
     "output_type": "stream",
     "text": [
      " 10%|█         | 10/100 [00:10<01:58,  1.32s/it]"
     ]
    },
    {
     "name": "stdout",
     "output_type": "stream",
     "text": [
      "Epoch 10, Accuracy: 97.85%\n"
     ]
    },
    {
     "name": "stderr",
     "output_type": "stream",
     "text": [
      " 20%|██        | 20/100 [00:21<01:41,  1.26s/it]"
     ]
    },
    {
     "name": "stdout",
     "output_type": "stream",
     "text": [
      "Epoch 20, Accuracy: 97.48%\n"
     ]
    },
    {
     "name": "stderr",
     "output_type": "stream",
     "text": [
      " 30%|███       | 30/100 [00:31<01:28,  1.26s/it]"
     ]
    },
    {
     "name": "stdout",
     "output_type": "stream",
     "text": [
      "Epoch 30, Accuracy: 97.70%\n"
     ]
    },
    {
     "name": "stderr",
     "output_type": "stream",
     "text": [
      " 40%|████      | 40/100 [00:42<01:15,  1.25s/it]"
     ]
    },
    {
     "name": "stdout",
     "output_type": "stream",
     "text": [
      "Epoch 40, Accuracy: 97.32%\n"
     ]
    },
    {
     "name": "stderr",
     "output_type": "stream",
     "text": [
      " 50%|█████     | 50/100 [00:52<01:02,  1.25s/it]"
     ]
    },
    {
     "name": "stdout",
     "output_type": "stream",
     "text": [
      "Epoch 50, Accuracy: 97.82%\n"
     ]
    },
    {
     "name": "stderr",
     "output_type": "stream",
     "text": [
      " 60%|██████    | 60/100 [01:02<00:49,  1.25s/it]"
     ]
    },
    {
     "name": "stdout",
     "output_type": "stream",
     "text": [
      "Epoch 60, Accuracy: 98.38%\n"
     ]
    },
    {
     "name": "stderr",
     "output_type": "stream",
     "text": [
      " 70%|███████   | 70/100 [01:13<00:37,  1.25s/it]"
     ]
    },
    {
     "name": "stdout",
     "output_type": "stream",
     "text": [
      "Epoch 70, Accuracy: 98.48%\n"
     ]
    },
    {
     "name": "stderr",
     "output_type": "stream",
     "text": [
      " 80%|████████  | 80/100 [01:23<00:25,  1.26s/it]"
     ]
    },
    {
     "name": "stdout",
     "output_type": "stream",
     "text": [
      "Epoch 80, Accuracy: 98.35%\n"
     ]
    },
    {
     "name": "stderr",
     "output_type": "stream",
     "text": [
      " 90%|█████████ | 90/100 [01:34<00:12,  1.25s/it]"
     ]
    },
    {
     "name": "stdout",
     "output_type": "stream",
     "text": [
      "Epoch 90, Accuracy: 98.48%\n"
     ]
    },
    {
     "name": "stderr",
     "output_type": "stream",
     "text": [
      "100%|██████████| 100/100 [01:44<00:00,  1.05s/it]\n",
      "  1%|          | 8/794 [00:00<00:10, 71.62it/s]"
     ]
    },
    {
     "name": "stdout",
     "output_type": "stream",
     "text": [
      "Epoch 100, Accuracy: 96.90%\n"
     ]
    },
    {
     "name": "stderr",
     "output_type": "stream",
     "text": [
      "100%|██████████| 794/794 [00:11<00:00, 72.03it/s]\n"
     ]
    },
    {
     "name": "stdout",
     "output_type": "stream",
     "text": [
      "Adding 2539 images to training set\n"
     ]
    },
    {
     "name": "stderr",
     "output_type": "stream",
     "text": [
      " 10%|█         | 10/100 [00:17<02:58,  1.98s/it]"
     ]
    },
    {
     "name": "stdout",
     "output_type": "stream",
     "text": [
      "Epoch 10, Accuracy: 98.57%\n"
     ]
    },
    {
     "name": "stderr",
     "output_type": "stream",
     "text": [
      " 20%|██        | 20/100 [00:35<02:40,  2.01s/it]"
     ]
    },
    {
     "name": "stdout",
     "output_type": "stream",
     "text": [
      "Epoch 20, Accuracy: 98.90%\n"
     ]
    },
    {
     "name": "stderr",
     "output_type": "stream",
     "text": [
      " 30%|███       | 30/100 [00:53<02:18,  1.98s/it]"
     ]
    },
    {
     "name": "stdout",
     "output_type": "stream",
     "text": [
      "Epoch 30, Accuracy: 98.53%\n"
     ]
    },
    {
     "name": "stderr",
     "output_type": "stream",
     "text": [
      " 40%|████      | 40/100 [01:10<01:59,  2.00s/it]"
     ]
    },
    {
     "name": "stdout",
     "output_type": "stream",
     "text": [
      "Epoch 40, Accuracy: 99.02%\n"
     ]
    },
    {
     "name": "stderr",
     "output_type": "stream",
     "text": [
      " 50%|█████     | 50/100 [01:28<01:39,  1.99s/it]"
     ]
    },
    {
     "name": "stdout",
     "output_type": "stream",
     "text": [
      "Epoch 50, Accuracy: 98.58%\n"
     ]
    },
    {
     "name": "stderr",
     "output_type": "stream",
     "text": [
      " 60%|██████    | 60/100 [01:46<01:19,  1.98s/it]"
     ]
    },
    {
     "name": "stdout",
     "output_type": "stream",
     "text": [
      "Epoch 60, Accuracy: 98.97%\n"
     ]
    },
    {
     "name": "stderr",
     "output_type": "stream",
     "text": [
      " 70%|███████   | 70/100 [02:04<00:59,  1.98s/it]"
     ]
    },
    {
     "name": "stdout",
     "output_type": "stream",
     "text": [
      "Epoch 70, Accuracy: 99.00%\n"
     ]
    },
    {
     "name": "stderr",
     "output_type": "stream",
     "text": [
      " 80%|████████  | 80/100 [02:21<00:40,  2.01s/it]"
     ]
    },
    {
     "name": "stdout",
     "output_type": "stream",
     "text": [
      "Epoch 80, Accuracy: 99.00%\n"
     ]
    },
    {
     "name": "stderr",
     "output_type": "stream",
     "text": [
      " 90%|█████████ | 90/100 [02:39<00:20,  2.00s/it]"
     ]
    },
    {
     "name": "stdout",
     "output_type": "stream",
     "text": [
      "Epoch 90, Accuracy: 98.53%\n"
     ]
    },
    {
     "name": "stderr",
     "output_type": "stream",
     "text": [
      "100%|██████████| 100/100 [02:57<00:00,  1.78s/it]\n",
      "  1%|          | 8/754 [00:00<00:10, 71.60it/s]"
     ]
    },
    {
     "name": "stdout",
     "output_type": "stream",
     "text": [
      "Epoch 100, Accuracy: 98.70%\n"
     ]
    },
    {
     "name": "stderr",
     "output_type": "stream",
     "text": [
      "100%|██████████| 754/754 [00:10<00:00, 70.99it/s]\n"
     ]
    },
    {
     "name": "stdout",
     "output_type": "stream",
     "text": [
      "Adding 2412 images to training set\n"
     ]
    },
    {
     "name": "stderr",
     "output_type": "stream",
     "text": [
      " 10%|█         | 10/100 [00:25<04:11,  2.79s/it]"
     ]
    },
    {
     "name": "stdout",
     "output_type": "stream",
     "text": [
      "Epoch 10, Accuracy: 98.62%\n"
     ]
    },
    {
     "name": "stderr",
     "output_type": "stream",
     "text": [
      " 20%|██        | 20/100 [00:51<03:38,  2.73s/it]"
     ]
    },
    {
     "name": "stdout",
     "output_type": "stream",
     "text": [
      "Epoch 20, Accuracy: 98.80%\n"
     ]
    },
    {
     "name": "stderr",
     "output_type": "stream",
     "text": [
      " 24%|██▍       | 24/100 [01:01<03:14,  2.56s/it]\n"
     ]
    },
    {
     "ename": "KeyboardInterrupt",
     "evalue": "",
     "output_type": "error",
     "traceback": [
      "\u001b[1;31m---------------------------------------------------------------------------\u001b[0m",
      "\u001b[1;31mKeyboardInterrupt\u001b[0m                         Traceback (most recent call last)",
      "\u001b[1;32m<ipython-input-3-84e47a20a3f5>\u001b[0m in \u001b[0;36m<module>\u001b[1;34m\u001b[0m\n\u001b[0;32m    156\u001b[0m     \u001b[0mtrain_loader\u001b[0m \u001b[1;33m=\u001b[0m \u001b[0mtorch\u001b[0m\u001b[1;33m.\u001b[0m\u001b[0mutils\u001b[0m\u001b[1;33m.\u001b[0m\u001b[0mdata\u001b[0m\u001b[1;33m.\u001b[0m\u001b[0mDataLoader\u001b[0m\u001b[1;33m(\u001b[0m\u001b[0mtrain_dataset\u001b[0m\u001b[1;33m,\u001b[0m \u001b[0mbatch_size\u001b[0m\u001b[1;33m=\u001b[0m\u001b[0mbatch_size\u001b[0m\u001b[1;33m,\u001b[0m \u001b[0mshuffle\u001b[0m\u001b[1;33m=\u001b[0m\u001b[1;32mTrue\u001b[0m\u001b[1;33m,\u001b[0m \u001b[0mdrop_last\u001b[0m\u001b[1;33m=\u001b[0m\u001b[1;32mTrue\u001b[0m\u001b[1;33m)\u001b[0m\u001b[1;33m\u001b[0m\u001b[1;33m\u001b[0m\u001b[0m\n\u001b[0;32m    157\u001b[0m     \u001b[0mmodel\u001b[0m\u001b[1;33m.\u001b[0m\u001b[0mload_state_dict\u001b[0m\u001b[1;33m(\u001b[0m\u001b[0mmodel_parameters\u001b[0m\u001b[1;33m)\u001b[0m  \u001b[1;31m# Reset the model each iteration\u001b[0m\u001b[1;33m\u001b[0m\u001b[1;33m\u001b[0m\u001b[0m\n\u001b[1;32m--> 158\u001b[1;33m     \u001b[0maccuracies\u001b[0m \u001b[1;33m=\u001b[0m \u001b[0mtrain_model\u001b[0m\u001b[1;33m(\u001b[0m\u001b[0mmodel\u001b[0m\u001b[1;33m,\u001b[0m \u001b[0mtrain_loader\u001b[0m\u001b[1;33m,\u001b[0m \u001b[0mval_loader\u001b[0m\u001b[1;33m,\u001b[0m \u001b[0mcriterion\u001b[0m\u001b[1;33m,\u001b[0m \u001b[0moptimizer\u001b[0m\u001b[1;33m,\u001b[0m \u001b[0mdevice\u001b[0m\u001b[1;33m,\u001b[0m \u001b[0mnum_epochs\u001b[0m\u001b[1;33m=\u001b[0m\u001b[0mnum_epochs\u001b[0m\u001b[1;33m,\u001b[0m \u001b[0mval_interval\u001b[0m\u001b[1;33m=\u001b[0m\u001b[1;36m10\u001b[0m\u001b[1;33m)\u001b[0m\u001b[1;33m\u001b[0m\u001b[1;33m\u001b[0m\u001b[0m\n\u001b[0m\u001b[0;32m    159\u001b[0m     \u001b[0mdatapoint_list\u001b[0m\u001b[1;33m.\u001b[0m\u001b[0mappend\u001b[0m\u001b[1;33m(\u001b[0m\u001b[0mlen\u001b[0m\u001b[1;33m(\u001b[0m\u001b[0mtrain_dataset\u001b[0m\u001b[1;33m)\u001b[0m\u001b[1;33m)\u001b[0m\u001b[1;33m\u001b[0m\u001b[1;33m\u001b[0m\u001b[0m\n\u001b[0;32m    160\u001b[0m     \u001b[0maccuracy_list\u001b[0m\u001b[1;33m.\u001b[0m\u001b[0mappend\u001b[0m\u001b[1;33m(\u001b[0m\u001b[0maccuracies\u001b[0m\u001b[1;33m)\u001b[0m\u001b[1;33m\u001b[0m\u001b[1;33m\u001b[0m\u001b[0m\n",
      "\u001b[1;32m<ipython-input-3-84e47a20a3f5>\u001b[0m in \u001b[0;36mtrain_model\u001b[1;34m(model, train_loader, val_loader, criterion, optimizer, device, num_epochs, val_interval)\u001b[0m\n\u001b[0;32m    116\u001b[0m             \u001b[0mloss\u001b[0m \u001b[1;33m=\u001b[0m \u001b[0mcriterion\u001b[0m\u001b[1;33m(\u001b[0m\u001b[0moutputs\u001b[0m\u001b[1;33m,\u001b[0m \u001b[0mlabels\u001b[0m\u001b[1;33m)\u001b[0m\u001b[1;33m\u001b[0m\u001b[1;33m\u001b[0m\u001b[0m\n\u001b[0;32m    117\u001b[0m             \u001b[0mloss\u001b[0m\u001b[1;33m.\u001b[0m\u001b[0mbackward\u001b[0m\u001b[1;33m(\u001b[0m\u001b[1;33m)\u001b[0m\u001b[1;33m\u001b[0m\u001b[1;33m\u001b[0m\u001b[0m\n\u001b[1;32m--> 118\u001b[1;33m             \u001b[0moptimizer\u001b[0m\u001b[1;33m.\u001b[0m\u001b[0mstep\u001b[0m\u001b[1;33m(\u001b[0m\u001b[1;33m)\u001b[0m\u001b[1;33m\u001b[0m\u001b[1;33m\u001b[0m\u001b[0m\n\u001b[0m\u001b[0;32m    119\u001b[0m \u001b[1;33m\u001b[0m\u001b[0m\n\u001b[0;32m    120\u001b[0m         \u001b[1;32mif\u001b[0m \u001b[1;33m(\u001b[0m\u001b[0mepoch\u001b[0m \u001b[1;33m+\u001b[0m \u001b[1;36m1\u001b[0m\u001b[1;33m)\u001b[0m \u001b[1;33m%\u001b[0m \u001b[0mval_interval\u001b[0m \u001b[1;33m==\u001b[0m \u001b[1;36m0\u001b[0m\u001b[1;33m:\u001b[0m\u001b[1;33m\u001b[0m\u001b[1;33m\u001b[0m\u001b[0m\n",
      "\u001b[1;32mD:\\Python\\lib\\site-packages\\torch\\optim\\optimizer.py\u001b[0m in \u001b[0;36mwrapper\u001b[1;34m(*args, **kwargs)\u001b[0m\n\u001b[0;32m    482\u001b[0m                             )\n\u001b[0;32m    483\u001b[0m \u001b[1;33m\u001b[0m\u001b[0m\n\u001b[1;32m--> 484\u001b[1;33m                 \u001b[0mout\u001b[0m \u001b[1;33m=\u001b[0m \u001b[0mfunc\u001b[0m\u001b[1;33m(\u001b[0m\u001b[1;33m*\u001b[0m\u001b[0margs\u001b[0m\u001b[1;33m,\u001b[0m \u001b[1;33m**\u001b[0m\u001b[0mkwargs\u001b[0m\u001b[1;33m)\u001b[0m\u001b[1;33m\u001b[0m\u001b[1;33m\u001b[0m\u001b[0m\n\u001b[0m\u001b[0;32m    485\u001b[0m                 \u001b[0mself\u001b[0m\u001b[1;33m.\u001b[0m\u001b[0m_optimizer_step_code\u001b[0m\u001b[1;33m(\u001b[0m\u001b[1;33m)\u001b[0m\u001b[1;33m\u001b[0m\u001b[1;33m\u001b[0m\u001b[0m\n\u001b[0;32m    486\u001b[0m \u001b[1;33m\u001b[0m\u001b[0m\n",
      "\u001b[1;32mD:\\Python\\lib\\site-packages\\torch\\optim\\optimizer.py\u001b[0m in \u001b[0;36m_use_grad\u001b[1;34m(self, *args, **kwargs)\u001b[0m\n\u001b[0;32m     87\u001b[0m             \u001b[0mtorch\u001b[0m\u001b[1;33m.\u001b[0m\u001b[0mset_grad_enabled\u001b[0m\u001b[1;33m(\u001b[0m\u001b[0mself\u001b[0m\u001b[1;33m.\u001b[0m\u001b[0mdefaults\u001b[0m\u001b[1;33m[\u001b[0m\u001b[1;34m\"differentiable\"\u001b[0m\u001b[1;33m]\u001b[0m\u001b[1;33m)\u001b[0m\u001b[1;33m\u001b[0m\u001b[1;33m\u001b[0m\u001b[0m\n\u001b[0;32m     88\u001b[0m             \u001b[0mtorch\u001b[0m\u001b[1;33m.\u001b[0m\u001b[0m_dynamo\u001b[0m\u001b[1;33m.\u001b[0m\u001b[0mgraph_break\u001b[0m\u001b[1;33m(\u001b[0m\u001b[1;33m)\u001b[0m\u001b[1;33m\u001b[0m\u001b[1;33m\u001b[0m\u001b[0m\n\u001b[1;32m---> 89\u001b[1;33m             \u001b[0mret\u001b[0m \u001b[1;33m=\u001b[0m \u001b[0mfunc\u001b[0m\u001b[1;33m(\u001b[0m\u001b[0mself\u001b[0m\u001b[1;33m,\u001b[0m \u001b[1;33m*\u001b[0m\u001b[0margs\u001b[0m\u001b[1;33m,\u001b[0m \u001b[1;33m**\u001b[0m\u001b[0mkwargs\u001b[0m\u001b[1;33m)\u001b[0m\u001b[1;33m\u001b[0m\u001b[1;33m\u001b[0m\u001b[0m\n\u001b[0m\u001b[0;32m     90\u001b[0m         \u001b[1;32mfinally\u001b[0m\u001b[1;33m:\u001b[0m\u001b[1;33m\u001b[0m\u001b[1;33m\u001b[0m\u001b[0m\n\u001b[0;32m     91\u001b[0m             \u001b[0mtorch\u001b[0m\u001b[1;33m.\u001b[0m\u001b[0m_dynamo\u001b[0m\u001b[1;33m.\u001b[0m\u001b[0mgraph_break\u001b[0m\u001b[1;33m(\u001b[0m\u001b[1;33m)\u001b[0m\u001b[1;33m\u001b[0m\u001b[1;33m\u001b[0m\u001b[0m\n",
      "\u001b[1;32mD:\\Python\\lib\\site-packages\\torch\\optim\\adam.py\u001b[0m in \u001b[0;36mstep\u001b[1;34m(self, closure)\u001b[0m\n\u001b[0;32m    214\u001b[0m             \u001b[0mbeta1\u001b[0m\u001b[1;33m,\u001b[0m \u001b[0mbeta2\u001b[0m \u001b[1;33m=\u001b[0m \u001b[0mgroup\u001b[0m\u001b[1;33m[\u001b[0m\u001b[1;34m\"betas\"\u001b[0m\u001b[1;33m]\u001b[0m\u001b[1;33m\u001b[0m\u001b[1;33m\u001b[0m\u001b[0m\n\u001b[0;32m    215\u001b[0m \u001b[1;33m\u001b[0m\u001b[0m\n\u001b[1;32m--> 216\u001b[1;33m             has_complex = self._init_group(\n\u001b[0m\u001b[0;32m    217\u001b[0m                 \u001b[0mgroup\u001b[0m\u001b[1;33m,\u001b[0m\u001b[1;33m\u001b[0m\u001b[1;33m\u001b[0m\u001b[0m\n\u001b[0;32m    218\u001b[0m                 \u001b[0mparams_with_grad\u001b[0m\u001b[1;33m,\u001b[0m\u001b[1;33m\u001b[0m\u001b[1;33m\u001b[0m\u001b[0m\n",
      "\u001b[1;32mD:\\Python\\lib\\site-packages\\torch\\optim\\adam.py\u001b[0m in \u001b[0;36m_init_group\u001b[1;34m(self, group, params_with_grad, grads, exp_avgs, exp_avg_sqs, max_exp_avg_sqs, state_steps)\u001b[0m\n\u001b[0;32m    130\u001b[0m         \u001b[1;32mfor\u001b[0m \u001b[0mp\u001b[0m \u001b[1;32min\u001b[0m \u001b[0mgroup\u001b[0m\u001b[1;33m[\u001b[0m\u001b[1;34m\"params\"\u001b[0m\u001b[1;33m]\u001b[0m\u001b[1;33m:\u001b[0m\u001b[1;33m\u001b[0m\u001b[1;33m\u001b[0m\u001b[0m\n\u001b[0;32m    131\u001b[0m             \u001b[1;32mif\u001b[0m \u001b[0mp\u001b[0m\u001b[1;33m.\u001b[0m\u001b[0mgrad\u001b[0m \u001b[1;32mis\u001b[0m \u001b[1;32mnot\u001b[0m \u001b[1;32mNone\u001b[0m\u001b[1;33m:\u001b[0m\u001b[1;33m\u001b[0m\u001b[1;33m\u001b[0m\u001b[0m\n\u001b[1;32m--> 132\u001b[1;33m                 \u001b[0mhas_complex\u001b[0m \u001b[1;33m|=\u001b[0m \u001b[0mtorch\u001b[0m\u001b[1;33m.\u001b[0m\u001b[0mis_complex\u001b[0m\u001b[1;33m(\u001b[0m\u001b[0mp\u001b[0m\u001b[1;33m)\u001b[0m\u001b[1;33m\u001b[0m\u001b[1;33m\u001b[0m\u001b[0m\n\u001b[0m\u001b[0;32m    133\u001b[0m                 \u001b[0mparams_with_grad\u001b[0m\u001b[1;33m.\u001b[0m\u001b[0mappend\u001b[0m\u001b[1;33m(\u001b[0m\u001b[0mp\u001b[0m\u001b[1;33m)\u001b[0m\u001b[1;33m\u001b[0m\u001b[1;33m\u001b[0m\u001b[0m\n\u001b[0;32m    134\u001b[0m                 \u001b[1;32mif\u001b[0m \u001b[0mp\u001b[0m\u001b[1;33m.\u001b[0m\u001b[0mgrad\u001b[0m\u001b[1;33m.\u001b[0m\u001b[0mis_sparse\u001b[0m\u001b[1;33m:\u001b[0m\u001b[1;33m\u001b[0m\u001b[1;33m\u001b[0m\u001b[0m\n",
      "\u001b[1;31mKeyboardInterrupt\u001b[0m: "
     ]
    }
   ],
   "source": [
    "import torch\n",
    "import torchvision\n",
    "import numpy as np\n",
    "from copy import deepcopy\n",
    "import argparse\n",
    "from tqdm import tqdm\n",
    "import matplotlib.pyplot as plt\n",
    "\n",
    "import sys\n",
    "\n",
    "if __name__ == \"__main__\" and \"ipykernel\" not in sys.argv[0]:\n",
    "    ap = argparse.ArgumentParser()\n",
    "    ap.add_argument(\"-d\", \"--debug\", action='store_true', help=\"Debug mode\")\n",
    "    args = ap.parse_args()\n",
    "else:\n",
    "    # Default argument handling for Jupyter\n",
    "    class Args:\n",
    "        debug = False\n",
    "    args = Args()\n",
    "    \n",
    "### Hyperparameters\n",
    "val_split = 0.1\n",
    "unlabelled_size = 0.99\n",
    "lr = 0.0005\n",
    "batch_size = 64\n",
    "num_epochs = 100\n",
    "label_iterations = 20\n",
    "top_frac = 0.05\n",
    "\n",
    "### Setup MNIST dataset\n",
    "transform = torchvision.transforms.Compose([\n",
    "    torchvision.transforms.ToTensor(),\n",
    "    torchvision.transforms.Normalize((0.5,), (0.5,))\n",
    "])\n",
    "train_dataset = torchvision.datasets.MNIST(root='./data', train=True, download=True, transform=transform)\n",
    "\n",
    "debug = args.debug\n",
    "if debug:\n",
    "    train_dataset.data = train_dataset.data[:1000]\n",
    "    train_dataset.targets = train_dataset.targets[:1000]\n",
    "    \n",
    "    torch.set_num_threads(4)\n",
    "val_dataset = deepcopy(train_dataset)\n",
    "\n",
    "train_size = int((1 - val_split) * len(train_dataset))\n",
    "val_size = len(train_dataset) - train_size\n",
    "indexes = torch.randperm(len(train_dataset)).tolist()\n",
    "# Define validation set\n",
    "indexes_val = indexes[train_size:]\n",
    "val_dataset.targets = val_dataset.targets[indexes_val]\n",
    "val_dataset.data = val_dataset.data[indexes_val]\n",
    "val_loader = torch.utils.data.DataLoader(val_dataset, batch_size=1024, shuffle=False)\n",
    "\n",
    "# Define training set\n",
    "indexes_train = indexes[:train_size]\n",
    "train_dataset.targets = train_dataset.targets[indexes_train]\n",
    "train_dataset.data = train_dataset.data[indexes_train]\n",
    "\n",
    "# Split training data into labelled and unlabelled\n",
    "unlabelled_size = int(unlabelled_size * len(train_dataset))\n",
    "indexes_train = torch.randperm(len(train_dataset)).tolist()  # Redefine indexes_train\n",
    "unlabbelled_dataset = deepcopy(train_dataset)\n",
    "unlabbelled_dataset.targets = unlabbelled_dataset.targets[indexes_train[:unlabelled_size]]\n",
    "unlabbelled_dataset.data = unlabbelled_dataset.data[indexes_train[:unlabelled_size]]\n",
    "train_dataset.targets = train_dataset.targets[indexes_train[unlabelled_size:]]\n",
    "train_dataset.data = train_dataset.data[indexes_train[unlabelled_size:]]\n",
    "unlabbelled_dataset.targets = unlabbelled_dataset.targets\n",
    "unlabbelled_dataset.data = unlabbelled_dataset.data\n",
    "start_train_dataset = deepcopy(train_dataset)  # Save for baseline\n",
    "start_unlabbelled_dataset = deepcopy(unlabbelled_dataset)  # Save for baseline\n",
    "\n",
    "\n",
    "def transfer_unlabelled_to_labeled(unlabbelled_dataset, train_dataset, indexes):\n",
    "    # Convert indexes to boolean mask\n",
    "    indexes = torch.tensor([i in indexes for i in range(len(unlabbelled_dataset.targets))])\n",
    "    \n",
    "    train_dataset.targets = torch.cat([train_dataset.targets, unlabbelled_dataset.targets[indexes]])\n",
    "    train_dataset.data = torch.cat([train_dataset.data, unlabbelled_dataset.data[indexes]])\n",
    "    unlabbelled_dataset.targets = unlabbelled_dataset.targets[~indexes]\n",
    "    unlabbelled_dataset.data = unlabbelled_dataset.data[~indexes]\n",
    "\n",
    "    return train_dataset, unlabbelled_dataset\n",
    "\n",
    "def validate_model(model, val_loader, device):\n",
    "    model.eval()\n",
    "    correct, total = 0, 0\n",
    "    with torch.no_grad():\n",
    "        for images, labels in val_loader:\n",
    "            images, labels = images.to(device), labels.to(device)\n",
    "            outputs = model(images)\n",
    "            _, predicted = torch.max(outputs, 1)\n",
    "            total += labels.size(0)\n",
    "            correct += (predicted == labels).sum().item()\n",
    "    return 100 * correct / total\n",
    "\n",
    "# Setup model\n",
    "device = torch.device('cuda' if torch.cuda.is_available() else 'cpu')\n",
    "model = torchvision.models.resnet18(pretrained=False)\n",
    "model.fc = torch.nn.Linear(model.fc.in_features, 10)\n",
    "# Modify input layer to accept 1 channel\n",
    "model.conv1 = torch.nn.Conv2d(1, 64, kernel_size=(7, 7), stride=(2, 2), padding=(3, 3), bias=False)\n",
    "\n",
    "model_parameters = deepcopy(model.state_dict())\n",
    "model = model.to(device)\n",
    "criterion = torch.nn.CrossEntropyLoss()\n",
    "optimizer = torch.optim.Adam(model.parameters(), lr=lr)\n",
    "\n",
    "def train_model(model, train_loader, val_loader, criterion, optimizer, device, num_epochs=10, val_interval=1):\n",
    "    accuracies = []\n",
    "    for epoch in tqdm(range(num_epochs)):\n",
    "        model.train()\n",
    "        for images, labels in train_loader:\n",
    "            images, labels = images.to(device), labels.to(device)\n",
    "            optimizer.zero_grad()\n",
    "            outputs = model(images)\n",
    "            loss = criterion(outputs, labels)\n",
    "            loss.backward()\n",
    "            optimizer.step()\n",
    "\n",
    "        if (epoch + 1) % val_interval == 0:\n",
    "            val_accuracy = validate_model(model, val_loader, device)\n",
    "            accuracies.append(val_accuracy)\n",
    "            print(f'Epoch {epoch + 1}, Accuracy: {val_accuracy:.2f}%')\n",
    "    return accuracies\n",
    "\n",
    "\n",
    "def label_iteration(model, train_dataset, unlabelled_dataset, device, top_frac=0.01):\n",
    "    # Use model to label all images in validation set\n",
    "    model.eval()\n",
    "    predictions = []\n",
    "    unlabelled_loader = torch.utils.data.DataLoader(unlabelled_dataset, batch_size=batch_size, shuffle=False, drop_last=False)\n",
    "\n",
    "    with torch.no_grad():\n",
    "        for images, _ in tqdm(unlabelled_loader):\n",
    "            images = images.to(device)\n",
    "            outputs = model(images).softmax(dim=1)\n",
    "            predictions.extend(outputs.detach().cpu().numpy())\n",
    "\n",
    "    predictions = torch.tensor(predictions)\n",
    "    # Find top % of images with lowest top-confidence\n",
    "    top_percent = int(top_frac * len(predictions))\n",
    "    _, top_indices = predictions.max(-1)[0].topk(top_percent, largest=False)\n",
    "    print(f\"Adding {len(top_indices)} images to training set\")\n",
    "    train_dataset, unlabelled_dataset = transfer_unlabelled_to_labeled(unlabelled_dataset, train_dataset, top_indices)\n",
    "    \n",
    "    return train_dataset, unlabelled_dataset\n",
    "\n",
    "\n",
    "## Run active learning\n",
    "datapoint_list = []\n",
    "accuracy_list = []\n",
    "\n",
    "max_data_points =10000\n",
    "\n",
    "for i in range(label_iterations):\n",
    "    train_loader = torch.utils.data.DataLoader(train_dataset, batch_size=batch_size, shuffle=True, drop_last=True)\n",
    "    model.load_state_dict(model_parameters)  # Reset the model each iteration\n",
    "    accuracies = train_model(model, train_loader, val_loader, criterion, optimizer, device, num_epochs=num_epochs, val_interval=10)\n",
    "    datapoint_list.append(len(train_dataset))\n",
    "    accuracy_list.append(accuracies)\n",
    "\n",
    "    # Stop if the labeled dataset reaches the maximum size\n",
    "    if len(train_dataset) >= max_data_points:\n",
    "        print(f\"Reached {max_data_points} labeled data points. Stopping active learning.\")\n",
    "        break\n",
    "\n",
    "    # Add new labeled data using active learning\n",
    "    if i < label_iterations - 1:\n",
    "        train_dataset, unlabbelled_dataset = label_iteration(model, train_dataset, unlabbelled_dataset, device, top_frac=top_frac)\n",
    "    \n",
    "# Add baseline accuracy (no active learning)\n",
    "n_datapoints = len(train_dataset) - len(start_train_dataset)\n",
    "model.load_state_dict(model_parameters)\n",
    "# We reuse the initial training set to reduce run to run variance\n",
    "train_dataset.data = torch.cat([start_train_dataset.data, start_unlabbelled_dataset.data[:n_datapoints]])\n",
    "train_dataset.targets = torch.cat([start_train_dataset.targets, start_unlabbelled_dataset.targets[:n_datapoints]])\n",
    "\n",
    "# Train model\n",
    "train_loader = torch.utils.data.DataLoader(train_dataset, batch_size=batch_size, shuffle=True, drop_last=True)\n",
    "val_loader = torch.utils.data.DataLoader(val_dataset, batch_size=1024, shuffle=False)\n",
    "baseline_accuracy = train_model(model, train_loader, val_loader, criterion, optimizer, device, num_epochs=num_epochs, val_interval=10)\n",
    "\n",
    "#%%\n",
    "def get_dat(datapoints, accuracies):\n",
    "    datapoints = np.array(datapoint_list)\n",
    "    accuracies = np.array(accuracy_list).max(-1)  # Max accuracy for each iteration\n",
    "\n",
    "    # Return the processed arrays\n",
    "    return datapoints, accuracies\n",
    "\n",
    "\n",
    "# Plot the accuracy\n",
    "datapoints = np.array(datapoint_list)\n",
    "accuracies = np.array(accuracy_list).max(-1)\n",
    "plt.figure(figsize=(10, 5))\n",
    "plt.plot(datapoints, accuracies, label='AL Accuracy')\n",
    "plt.hlines(max(baseline_accuracy), min(datapoints), max(datapoints), label='Baseline Accuracy', color='red')\n",
    "plt.xlabel('Datapoints')\n",
    "plt.ylabel('Accuracy')\n",
    "plt.legend()\n",
    "\n",
    "plt.tight_layout()\n",
    "plt.savefig('figs/accuracy.png')\n",
    "plt.show()"
   ]
  },
  {
   "cell_type": "code",
   "execution_count": 2,
   "id": "0f1893dc",
   "metadata": {},
   "outputs": [
    {
     "ename": "NameError",
     "evalue": "name 'datapoint_list' is not defined",
     "output_type": "error",
     "traceback": [
      "\u001b[1;31m---------------------------------------------------------------------------\u001b[0m",
      "\u001b[1;31mNameError\u001b[0m                                 Traceback (most recent call last)",
      "\u001b[1;32m<ipython-input-2-447dc3bde708>\u001b[0m in \u001b[0;36m<module>\u001b[1;34m\u001b[0m\n\u001b[0;32m      4\u001b[0m \u001b[1;31m# Example Data\u001b[0m\u001b[1;33m\u001b[0m\u001b[1;33m\u001b[0m\u001b[1;33m\u001b[0m\u001b[0m\n\u001b[0;32m      5\u001b[0m \u001b[1;31m# Replace these with actual datapoints and accuracy values\u001b[0m\u001b[1;33m\u001b[0m\u001b[1;33m\u001b[0m\u001b[1;33m\u001b[0m\u001b[0m\n\u001b[1;32m----> 6\u001b[1;33m \u001b[0mdatapoints\u001b[0m \u001b[1;33m=\u001b[0m \u001b[0mnp\u001b[0m\u001b[1;33m.\u001b[0m\u001b[0marray\u001b[0m\u001b[1;33m(\u001b[0m\u001b[0mdatapoint_list\u001b[0m\u001b[1;33m)\u001b[0m  \u001b[1;31m# From Active Learning\u001b[0m\u001b[1;33m\u001b[0m\u001b[1;33m\u001b[0m\u001b[0m\n\u001b[0m\u001b[0;32m      7\u001b[0m \u001b[0maccuracies\u001b[0m \u001b[1;33m=\u001b[0m \u001b[0mnp\u001b[0m\u001b[1;33m.\u001b[0m\u001b[0marray\u001b[0m\u001b[1;33m(\u001b[0m\u001b[0maccuracy_list\u001b[0m\u001b[1;33m)\u001b[0m\u001b[1;33m.\u001b[0m\u001b[0mmax\u001b[0m\u001b[1;33m(\u001b[0m\u001b[1;33m-\u001b[0m\u001b[1;36m1\u001b[0m\u001b[1;33m)\u001b[0m  \u001b[1;31m# From Active Learning\u001b[0m\u001b[1;33m\u001b[0m\u001b[1;33m\u001b[0m\u001b[0m\n\u001b[0;32m      8\u001b[0m \u001b[1;31m#baseline_accuracy = max(baseline_accuracy)  # Baseline accuracy\u001b[0m\u001b[1;33m\u001b[0m\u001b[1;33m\u001b[0m\u001b[1;33m\u001b[0m\u001b[0m\n",
      "\u001b[1;31mNameError\u001b[0m: name 'datapoint_list' is not defined"
     ]
    }
   ],
   "source": [
    "import numpy as np\n",
    "import matplotlib.pyplot as plt\n",
    "\n",
    "# Example Data\n",
    "# Replace these with actual datapoints and accuracy values\n",
    "datapoints = np.array(datapoint_list)  # From Active Learning\n",
    "accuracies = np.array(accuracy_list).max(-1)  # From Active Learning\n",
    "#baseline_accuracy = max(baseline_accuracy)  # Baseline accuracy\n",
    "mnist_sizes = [0.01, 0.05, 0.1, 0.2, 0.5, 1.0]\n",
    "mnist_accuracies = [85, 90, 93, 94, 95, 96]  # Replace with actual MNIST values\n",
    "cifar_sizes = [0.01, 0.05, 0.1, 0.2, 0.5, 1.0]\n",
    "cifar_accuracies = [50, 55, 60, 65, 70, 75]  # Replace with actual CIFAR-10 values\n",
    "\n",
    "# Combine Plots\n",
    "plt.figure(figsize=(8, 8))\n",
    "\n",
    "# MNIST and CIFAR-10 Accuracy\n",
    "plt.plot([s * len(mnist_train_set) for s in mnist_sizes], mnist_accuracies, label='MNIST Accuracy', linewidth = 3, color = 'r')\n",
    "plt.plot([s * len(cifar_train_set) for s in cifar_sizes], cifar_accuracies, label='CIFAR-10 Accuracy', linewidth =3, color = 'b')\n",
    "plt.plot([s * len(mnist_train_set) for s in mnist_sizes], mnist_accuracies, 'o', color ='firebrick', markersize = 10)\n",
    "plt.plot([s * len(cifar_train_set) for s in cifar_sizes], cifar_accuracies, 'v', color = 'dodgerblue', markersize = 10)\n",
    "\n",
    "\n",
    "\n",
    "# Active Learning and Baseline\n",
    "#plt.plot(datapoints, accuracies, label='MNIST - AL Accuracy', linestyle='--', linewidth = 3, color = 'g')\n",
    "#plt.hlines(xmin = 500, xmax = 10000, y = 32.39, linestyle='--', linewidth = 3, color = 'y', label ='CIFAR-10 - Baseline accuracy')\n",
    "#plt.hlines(baseline_accuracy, min(datapoints), 55000, colors='red', linestyles='dotted', label='MNIST - Baseline Accuracy', color = 'k')\n",
    "\n",
    "#plt.plot(cifar_al_datapoints, cifar_al_accuracies, label='CIFAR-10 AL Accuracy', linestyle='--', color='blue')\n",
    "\n",
    "# Plot Aesthetics\n",
    "plt.xlabel('Number of Labeled Data Points', fontsize=17)\n",
    "plt.ylabel('Validation Accuracy (%)', fontsize=17)\n",
    "plt.title('Accuracy Comparison Across AL, Baseline, MNIST, and CIFAR-10', fontsize=16)\n",
    "plt.xticks(fontsize=12)\n",
    "plt.yticks(fontsize=12)\n",
    "plt.legend(fontsize=20)\n",
    "plt.legend(prop = {'size':12})\n",
    "plt.grid()\n",
    "plt.xlim(0, 10000)\n",
    "plt.ylim(0, 110)\n",
    "\n",
    "# Save and Show\n",
    "plt.tight_layout()\n",
    "\n",
    "plt.show()\n",
    "\n",
    "\n"
   ]
  },
  {
   "cell_type": "code",
   "execution_count": 38,
   "id": "f4cef29d",
   "metadata": {},
   "outputs": [
    {
     "name": "stdout",
     "output_type": "stream",
     "text": [
      "Files already downloaded and verified\n"
     ]
    },
    {
     "name": "stderr",
     "output_type": "stream",
     "text": [
      "D:\\Python\\lib\\site-packages\\torchvision\\models\\_utils.py:208: UserWarning: The parameter 'pretrained' is deprecated since 0.13 and may be removed in the future, please use 'weights' instead.\n",
      "  warnings.warn(\n",
      "D:\\Python\\lib\\site-packages\\torchvision\\models\\_utils.py:223: UserWarning: Arguments other than a weight enum or `None` for 'weights' are deprecated since 0.13 and may be removed in the future. The current behavior is equivalent to passing `weights=None`.\n",
      "  warnings.warn(msg)\n"
     ]
    },
    {
     "name": "stdout",
     "output_type": "stream",
     "text": [
      "Labeled Data Points: 1000, Accuracy: 93.35%\n",
      "Labeled Data Points: 2000, Accuracy: 95.77%\n",
      "Labeled Data Points: 3000, Accuracy: 96.95%\n",
      "Labeled Data Points: 4000, Accuracy: 97.35%\n",
      "Labeled Data Points: 5000, Accuracy: 98.35%\n",
      "Labeled Data Points: 6000, Accuracy: 96.90%\n",
      "Labeled Data Points: 7000, Accuracy: 98.63%\n",
      "Labeled Data Points: 8000, Accuracy: 98.33%\n",
      "Labeled Data Points: 9000, Accuracy: 98.15%\n",
      "Labeled Data Points: 1000, Accuracy: 86.13%\n",
      "Labeled Data Points: 2000, Accuracy: 94.27%\n",
      "Labeled Data Points: 3000, Accuracy: 96.93%\n",
      "Labeled Data Points: 4000, Accuracy: 97.65%\n",
      "Labeled Data Points: 5000, Accuracy: 97.47%\n",
      "Labeled Data Points: 6000, Accuracy: 98.57%\n",
      "Labeled Data Points: 7000, Accuracy: 97.28%\n",
      "Labeled Data Points: 8000, Accuracy: 98.70%\n",
      "Labeled Data Points: 9000, Accuracy: 97.82%\n"
     ]
    },
    {
     "ename": "ModuleNotFoundError",
     "evalue": "No module named 'Baseline_ACC'",
     "output_type": "error",
     "traceback": [
      "\u001b[1;31m---------------------------------------------------------------------------\u001b[0m",
      "\u001b[1;31mModuleNotFoundError\u001b[0m                       Traceback (most recent call last)",
      "\u001b[1;32m<ipython-input-38-14718c2cdaa3>\u001b[0m in \u001b[0;36m<module>\u001b[1;34m\u001b[0m\n\u001b[0;32m    189\u001b[0m        }\n\u001b[0;32m    190\u001b[0m \u001b[1;33m\u001b[0m\u001b[0m\n\u001b[1;32m--> 191\u001b[1;33m \u001b[1;32mfrom\u001b[0m \u001b[0mBaseline_ACC\u001b[0m \u001b[1;32mimport\u001b[0m \u001b[0mget_dat\u001b[0m\u001b[1;33m\u001b[0m\u001b[1;33m\u001b[0m\u001b[0m\n\u001b[0m\u001b[0;32m    192\u001b[0m \u001b[1;33m\u001b[0m\u001b[0m\n\u001b[0;32m    193\u001b[0m \u001b[0mget_dat\u001b[0m\u001b[1;33m\u001b[0m\u001b[1;33m\u001b[0m\u001b[0m\n",
      "\u001b[1;31mModuleNotFoundError\u001b[0m: No module named 'Baseline_ACC'"
     ]
    }
   ],
   "source": [
    "# -*- coding: utf-8 -*-\n",
    "\"\"\"\n",
    "Created on Mon Nov 18 14:31:35 2024\n",
    "\n",
    "@author: vicly\n",
    "\"\"\"\n",
    "\n",
    "import torch\n",
    "import torchvision\n",
    "import numpy as np\n",
    "from copy import deepcopy\n",
    "import matplotlib.pyplot as plt\n",
    "from tqdm import tqdm\n",
    "\n",
    "# Hyperparameters\n",
    "val_split = 0.1\n",
    "lr = 0.0005\n",
    "batch_size = 64\n",
    "num_epochs = 10\n",
    "step_size = 1000  # Number of samples added per active learning iteration\n",
    "\n",
    "# Datasets\n",
    "transform_mnist = torchvision.transforms.Compose([\n",
    "    torchvision.transforms.ToTensor(),\n",
    "    torchvision.transforms.Normalize((0.5,), (0.5,))\n",
    "])\n",
    "transform_cifar = torchvision.transforms.Compose([\n",
    "    torchvision.transforms.ToTensor(),\n",
    "    torchvision.transforms.Normalize((0.5, 0.5, 0.5), (0.5, 0.5, 0.5))\n",
    "])\n",
    "\n",
    "mnist_train = torchvision.datasets.MNIST(root='./data', train=True, download=True, transform=transform_mnist)\n",
    "cifar_train = torchvision.datasets.CIFAR10(root='./data', train=True, download=True, transform=transform_cifar)\n",
    "\n",
    "# Validation split\n",
    "def split_data(dataset, val_split=0.1):\n",
    "    train_size = int((1 - val_split) * len(dataset))\n",
    "    val_size = len(dataset) - train_size\n",
    "    train_set, val_set = torch.utils.data.random_split(dataset, [train_size, val_size])\n",
    "    return train_set, val_set\n",
    "\n",
    "mnist_train_set, mnist_val_set = split_data(mnist_train)\n",
    "cifar_train_set, cifar_val_set = split_data(cifar_train)\n",
    "\n",
    "# DataLoader\n",
    "def get_loader(dataset, batch_size, shuffle=True):\n",
    "    return torch.utils.data.DataLoader(dataset, batch_size=batch_size, shuffle=shuffle)\n",
    "\n",
    "mnist_val_loader = get_loader(mnist_val_set, batch_size=1024, shuffle=False)\n",
    "cifar_val_loader = get_loader(cifar_val_set, batch_size=1024, shuffle=False)\n",
    "\n",
    "# Model Setup\n",
    "def get_model(dataset_name):\n",
    "    if dataset_name == 'mnist':\n",
    "        model = torchvision.models.resnet18(pretrained=False)\n",
    "        model.conv1 = torch.nn.Conv2d(1, 64, kernel_size=(7, 7), stride=(2, 2), padding=(3, 3), bias=False)\n",
    "        model.fc = torch.nn.Linear(model.fc.in_features, 10)\n",
    "    elif dataset_name == 'cifar':\n",
    "        model = torchvision.models.resnet18(pretrained=False)\n",
    "        model.fc = torch.nn.Linear(model.fc.in_features, 10)\n",
    "    return model\n",
    "\n",
    "# Training and Validation\n",
    "def train_and_validate(model, train_loader, val_loader, criterion, optimizer, device, num_epochs=10):\n",
    "    model.to(device)\n",
    "    for epoch in range(num_epochs):\n",
    "        model.train()\n",
    "        for images, labels in train_loader:\n",
    "            images, labels = images.to(device), labels.to(device)\n",
    "            optimizer.zero_grad()\n",
    "            outputs = model(images)\n",
    "            loss = criterion(outputs, labels)\n",
    "            loss.backward()\n",
    "            optimizer.step()\n",
    "\n",
    "    # Validation\n",
    "    model.eval()\n",
    "    correct, total = 0, 0\n",
    "    with torch.no_grad():\n",
    "        for images, labels in val_loader:\n",
    "            images, labels = images.to(device), labels.to(device)\n",
    "            outputs = model(images)\n",
    "            _, predicted = torch.max(outputs, 1)\n",
    "            total += labels.size(0)\n",
    "            correct += (predicted == labels).sum().item()\n",
    "    return 100 * correct / total\n",
    "\n",
    "# Active Learning Functions\n",
    "def uncertainty_sampling(model, unlabeled_loader, device, top_n):\n",
    "    model.eval()\n",
    "    uncertainties = []\n",
    "    indices = []\n",
    "\n",
    "    with torch.no_grad():\n",
    "        for batch_idx, (images, _) in enumerate(unlabeled_loader):\n",
    "            images = images.to(device)\n",
    "            outputs = model(images).softmax(dim=1)\n",
    "            max_probs, _ = outputs.max(dim=1)\n",
    "            uncertainty = 1 - max_probs  # Least confidence\n",
    "            uncertainties.extend(uncertainty.cpu().numpy())\n",
    "            indices.extend(range(batch_idx * len(images), (batch_idx + 1) * len(images)))\n",
    "\n",
    "    # Select top N uncertain samples\n",
    "    uncertainties = np.array(uncertainties)\n",
    "    top_indices = np.argsort(-uncertainties)[:top_n]\n",
    "    return np.array(indices)[top_indices]\n",
    "\n",
    "def margin_sampling(model, unlabeled_loader, device, top_n):\n",
    "    model.eval()\n",
    "    margins = []\n",
    "    indices = []\n",
    "\n",
    "    with torch.no_grad():\n",
    "        for batch_idx, (images, _) in enumerate(unlabeled_loader):\n",
    "            images = images.to(device)\n",
    "            outputs = model(images).softmax(dim=1)\n",
    "            top2_probs = torch.topk(outputs, 2, dim=1).values\n",
    "            margin = top2_probs[:, 0] - top2_probs[:, 1]\n",
    "            margins.extend(margin.cpu().numpy())\n",
    "            indices.extend(range(batch_idx * len(images), (batch_idx + 1) * len(images)))\n",
    "\n",
    "    # Select top N smallest margin samples\n",
    "    margins = np.array(margins)\n",
    "    top_indices = np.argsort(margins)[:top_n]\n",
    "    return np.array(indices)[top_indices]\n",
    "\n",
    "# Main Active Learning Loop\n",
    "def active_learning_experiment(initial_size, total_size, dataset, val_loader, dataset_name, strategy='uncertainty', step_size=1000):\n",
    "    device = torch.device('cuda' if torch.cuda.is_available() else 'cpu')\n",
    "\n",
    "    # Initial labeled and unlabeled datasets\n",
    "    labeled_indices = np.random.choice(len(dataset), initial_size, replace=False)\n",
    "    unlabeled_indices = np.setdiff1d(np.arange(len(dataset)), labeled_indices)\n",
    "    labeled_dataset = torch.utils.data.Subset(dataset, labeled_indices)\n",
    "    unlabeled_dataset = torch.utils.data.Subset(dataset, unlabeled_indices)\n",
    "    \n",
    "    labeled_loader = get_loader(labeled_dataset, batch_size=batch_size)\n",
    "    unlabeled_loader = get_loader(unlabeled_dataset, batch_size=batch_size, shuffle=False)\n",
    "    \n",
    "    accuracies = []\n",
    "    sizes = []\n",
    "\n",
    "    while len(labeled_dataset) < total_size:\n",
    "        # Train model on the current labeled set\n",
    "        model = get_model(dataset_name)\n",
    "        model.to(device)\n",
    "        criterion = torch.nn.CrossEntropyLoss()\n",
    "        optimizer = torch.optim.Adam(model.parameters(), lr=lr)\n",
    "        accuracy = train_and_validate(model, labeled_loader, val_loader, criterion, optimizer, device, num_epochs)\n",
    "        accuracies.append(accuracy)\n",
    "        sizes.append(len(labeled_dataset))\n",
    "\n",
    "        print(f\"Labeled Data Points: {len(labeled_dataset)}, Accuracy: {accuracy:.2f}%\")\n",
    "\n",
    "        # Exit if we reach the total size\n",
    "        if len(labeled_dataset) + step_size > total_size:\n",
    "            break\n",
    "\n",
    "        # Select new samples\n",
    "        if strategy == 'uncertainty':\n",
    "            top_indices = uncertainty_sampling(model, unlabeled_loader, device, step_size)\n",
    "        elif strategy == 'margin':\n",
    "            top_indices = margin_sampling(model, unlabeled_loader, device, step_size)\n",
    "\n",
    "        # Add selected samples to the labeled dataset\n",
    "        labeled_indices = np.concatenate([labeled_indices, unlabeled_indices[top_indices]])\n",
    "        unlabeled_indices = np.setdiff1d(unlabeled_indices, unlabeled_indices[top_indices])\n",
    "        labeled_dataset = torch.utils.data.Subset(dataset, labeled_indices)\n",
    "        unlabeled_dataset = torch.utils.data.Subset(dataset, unlabeled_indices)\n",
    "\n",
    "        labeled_loader = get_loader(labeled_dataset, batch_size=batch_size)\n",
    "        unlabeled_loader = get_loader(unlabeled_dataset, batch_size=batch_size, shuffle=False)\n",
    "\n",
    "    return sizes, accuracies\n",
    "\n",
    "# Run Active Learning Experiment\n",
    "mnist_sizes_uncertainty, mnist_accuracies_uncertainty = active_learning_experiment(\n",
    "    initial_size=1000, total_size=10000, dataset=mnist_train_set, val_loader=mnist_val_loader, dataset_name='mnist', strategy='uncertainty'\n",
    ")\n",
    "\n",
    "mnist_sizes_margin, mnist_accuracies_margin = active_learning_experiment(\n",
    "    initial_size=1000, total_size=10000, dataset=mnist_train_set, val_loader=mnist_val_loader, dataset_name='mnist', strategy='margin'\n",
    ")\n",
    "\n",
    "\n",
    "# Plot Results\n",
    "plt.figure(figsize=(10, 6))\n",
    "plt.plot(mnist_sizes_uncertainty, mnist_accuracies_uncertainty, label='Uncertainty Sampling', linewidth = 3)\n",
    "plt.plot(mnist_sizes_margin, mnist_accuracies_margin, label='Margin Sampling', linewidth = 3)\n",
    "plt.plot(mnist_sizes_uncertainty, mnist_accuracies_uncertainty, 'v', color = 'dodgerblue', markersize = 10)\n",
    "plt.plot(mnist_sizes_margin, mnist_accuracies_margin, 'o', color ='darkorange', markersize = 10)\n",
    "plt.xlabel('Uncertainty Sampling', fontsize = 15)\n",
    "plt.ylabel(\"Intensity /a.u.\", fontsize = 15)\n",
    "plt.xticks(fontsize = 12)\n",
    "plt.yticks(fontsize = 12)\n",
    "\n",
    "plt.plot(datapoints, accuracies, label='AL Accuracy')\n",
    "plt.hlines(max(baseline_accuracy), min(datapoints), max(datapoints), label='Baseline Accuracy', color='red')\n",
    "\n",
    "plt.title(label = 'Active learning - MNIST', fontsize = 40)\n",
    "plt.xlabel('Number of Labeled Data Points')\n",
    "plt.ylabel('Validation Accuracy (%)')\n",
    "plt.title('Active Learning Strategies - MNIST')\n",
    "plt.legend(prop = {'size':12})\n",
    "plt.grid()\n",
    "plt.show()\n"
   ]
  },
  {
   "cell_type": "code",
   "execution_count": 80,
   "id": "ded55d8e",
   "metadata": {},
   "outputs": [
    {
     "name": "stdout",
     "output_type": "stream",
     "text": [
      "Files already downloaded and verified\n",
      "Files already downloaded and verified\n"
     ]
    },
    {
     "name": "stderr",
     "output_type": "stream",
     "text": [
      "D:\\Python\\lib\\site-packages\\torchvision\\models\\_utils.py:208: UserWarning: The parameter 'pretrained' is deprecated since 0.13 and may be removed in the future, please use 'weights' instead.\n",
      "  warnings.warn(\n",
      "D:\\Python\\lib\\site-packages\\torchvision\\models\\_utils.py:223: UserWarning: Arguments other than a weight enum or `None` for 'weights' are deprecated since 0.13 and may be removed in the future. The current behavior is equivalent to passing `weights=None`.\n",
      "  warnings.warn(msg)\n",
      "Training: 100%|██████████| 10/10 [00:26<00:00,  2.60s/it]\n",
      "Training: 100%|██████████| 10/10 [00:01<00:00,  7.43it/s]\n",
      "Training: 100%|██████████| 10/10 [00:02<00:00,  3.84it/s]\n",
      "Training: 100%|██████████| 10/10 [00:03<00:00,  2.58it/s]\n",
      "Training: 100%|██████████| 10/10 [00:05<00:00,  1.92it/s]\n",
      "Training: 100%|██████████| 10/10 [00:06<00:00,  1.54it/s]\n",
      "Training: 100%|██████████| 10/10 [00:07<00:00,  1.29it/s]\n",
      "Training: 100%|██████████| 10/10 [00:09<00:00,  1.10it/s]\n",
      "Training: 100%|██████████| 10/10 [00:10<00:00,  1.03s/it]\n",
      "Training: 100%|██████████| 10/10 [00:11<00:00,  1.17s/it]\n",
      "Training: 100%|██████████| 10/10 [00:12<00:00,  1.30s/it]\n",
      "Training: 100%|██████████| 10/10 [00:14<00:00,  1.42s/it]\n",
      "Training: 100%|██████████| 10/10 [00:15<00:00,  1.54s/it]\n",
      "Training: 100%|██████████| 10/10 [00:16<00:00,  1.68s/it]\n",
      "Training: 100%|██████████| 10/10 [00:18<00:00,  1.80s/it]\n",
      "Training: 100%|██████████| 10/10 [00:19<00:00,  1.93s/it]\n",
      "Training: 100%|██████████| 10/10 [00:20<00:00,  2.05s/it]\n",
      "Training: 100%|██████████| 10/10 [00:22<00:00,  2.21s/it]\n",
      "Training: 100%|██████████| 10/10 [00:23<00:00,  2.39s/it]\n",
      "Training: 100%|██████████| 10/10 [00:25<00:00,  2.56s/it]\n"
     ]
    },
    {
     "data": {
      "image/png": "[encoded data removed]",
      "text/plain": [
       "<Figure size 864x432 with 1 Axes>"
      ]
     },
     "metadata": {
      "needs_background": "light"
     },
     "output_type": "display_data"
    }
   ],
   "source": [
    "import torch\n",
    "import torchvision\n",
    "import numpy as np\n",
    "from tqdm import tqdm\n",
    "\n",
    "# ---- Hyperparameters ----\n",
    "batch_size = 128  # Larger batch size for faster processing\n",
    "lr = 0.001  # Learning rate\n",
    "num_epochs = 10  # Fewer epochs to speed up training\n",
    "initial_size = 500  # Initial labeled dataset size\n",
    "max_datapoints = 10000  # Max labeled dataset size\n",
    "points_per_step = 500  # Points added in each AL iteration\n",
    "\n",
    "# ---- Dataset Transforms ----\n",
    "cifar_transform = torchvision.transforms.Compose([\n",
    "    torchvision.transforms.ToTensor(),\n",
    "    torchvision.transforms.Normalize((0.5, 0.5, 0.5), (0.5, 0.5, 0.5))\n",
    "])\n",
    "\n",
    "# ---- Load CIFAR-10 Dataset ----\n",
    "cifar_train = torchvision.datasets.CIFAR10(root='./data', train=True, download=True, transform=cifar_transform)\n",
    "cifar_val = torchvision.datasets.CIFAR10(root='./data', train=False, download=True, transform=cifar_transform)\n",
    "\n",
    "# ---- DataLoader Helper ----\n",
    "def get_loader(dataset, batch_size, shuffle=True):\n",
    "    return torch.utils.data.DataLoader(dataset, batch_size=batch_size, shuffle=shuffle)\n",
    "\n",
    "cifar_val_loader = get_loader(cifar_val, batch_size, shuffle=False)\n",
    "\n",
    "# ---- Model Initialization ----\n",
    "def get_model():\n",
    "    model = torchvision.models.resnet18(pretrained=False)\n",
    "    model.fc = torch.nn.Linear(model.fc.in_features, 10)\n",
    "    return model\n",
    "\n",
    "# ---- Training and Validation ----\n",
    "def train_and_validate(model, train_loader, val_loader, criterion, optimizer, device, num_epochs):\n",
    "    model.to(device)\n",
    "    for epoch in tqdm(range(num_epochs), desc=\"Training\"):\n",
    "        model.train()\n",
    "        for images, labels in train_loader:\n",
    "            images, labels = images.to(device), labels.to(device)\n",
    "            optimizer.zero_grad()\n",
    "            outputs = model(images)\n",
    "            loss = criterion(outputs, labels)\n",
    "            loss.backward()\n",
    "            optimizer.step()\n",
    "\n",
    "    # Validation\n",
    "    model.eval()\n",
    "    correct, total = 0, 0\n",
    "    with torch.no_grad():\n",
    "        for images, labels in val_loader:\n",
    "            images, labels = images.to(device), labels.to(device)\n",
    "            outputs = model(images)\n",
    "            _, predicted = torch.max(outputs, 1)\n",
    "            total += labels.size(0)\n",
    "            correct += (predicted == labels).sum().item()\n",
    "    return 100 * correct / total\n",
    "\n",
    "# ---- Baseline Accuracy ----\n",
    "def baseline_accuracy(train_set, val_loader, dataset_size):\n",
    "    device = torch.device('cuda' if torch.cuda.is_available() else 'cpu')\n",
    "    model = get_model()\n",
    "    criterion = torch.nn.CrossEntropyLoss()\n",
    "    optimizer = torch.optim.Adam(model.parameters(), lr=lr)\n",
    "\n",
    "    labeled_indices = np.random.choice(len(train_set), dataset_size, replace=False)\n",
    "    labeled_set = torch.utils.data.Subset(train_set, labeled_indices)\n",
    "    labeled_loader = get_loader(labeled_set, batch_size)\n",
    "\n",
    "    return train_and_validate(model, labeled_loader, val_loader, criterion, optimizer, device, num_epochs)\n",
    "\n",
    "# ---- Active Learning Loop ----\n",
    "def active_learning_accuracy(train_set, val_loader, initial_size, max_datapoints, points_per_step):\n",
    "    device = torch.device('cuda' if torch.cuda.is_available() else 'cpu')\n",
    "    model = get_model()\n",
    "    criterion = torch.nn.CrossEntropyLoss()\n",
    "    optimizer = torch.optim.Adam(model.parameters(), lr=lr)\n",
    "\n",
    "    # Initialize labeled and unlabeled indices\n",
    "    labeled_indices = np.random.choice(len(train_set), initial_size, replace=False)\n",
    "    unlabeled_indices = np.setdiff1d(np.arange(len(train_set)), labeled_indices)\n",
    "\n",
    "    labeled_set = torch.utils.data.Subset(train_set, labeled_indices)\n",
    "    labeled_loader = get_loader(labeled_set, batch_size)\n",
    "\n",
    "    datapoints, accuracies = [], []\n",
    "    while len(labeled_indices) < max_datapoints:\n",
    "        # Train and validate\n",
    "        accuracy = train_and_validate(model, labeled_loader, val_loader, criterion, optimizer, device, num_epochs)\n",
    "        accuracies.append(accuracy)\n",
    "        datapoints.append(len(labeled_indices))\n",
    "\n",
    "        if len(labeled_indices) + points_per_step > max_datapoints:\n",
    "            points_per_step = max_datapoints - len(labeled_indices)\n",
    "\n",
    "        # Model evaluation for uncertainty sampling\n",
    "        model.eval()\n",
    "        uncertainties = []\n",
    "        global_indices = []\n",
    "        with torch.no_grad():\n",
    "            # Process the entire unlabeled dataset in batches\n",
    "            unlabeled_loader = get_loader(torch.utils.data.Subset(train_set, unlabeled_indices), batch_size, shuffle=False)\n",
    "            for batch_idx, (images, _) in enumerate(unlabeled_loader):\n",
    "                images = images.to(device)\n",
    "                outputs = model(images).softmax(dim=1)\n",
    "                max_probs, _ = outputs.max(dim=1)\n",
    "                uncertainties.extend(1 - max_probs.cpu().numpy())\n",
    "                global_indices.extend(unlabeled_indices[batch_idx * batch_size : batch_idx * batch_size + len(images)])\n",
    "\n",
    "        # Sort uncertainties and pick the most uncertain samples\n",
    "        uncertainties = np.array(uncertainties)\n",
    "        sorted_indices = np.argsort(-uncertainties)\n",
    "        num_to_add = min(points_per_step, len(global_indices))\n",
    "        new_indices = np.array(global_indices)[sorted_indices[:num_to_add]]\n",
    "\n",
    "        # Update labeled and unlabeled indices\n",
    "        labeled_indices = np.concatenate([labeled_indices, new_indices])\n",
    "        unlabeled_indices = np.setdiff1d(unlabeled_indices, new_indices)\n",
    "        labeled_set = torch.utils.data.Subset(train_set, labeled_indices)\n",
    "        labeled_loader = get_loader(labeled_set, batch_size)\n",
    "\n",
    "    return datapoints, accuracies\n",
    "\n",
    "# ---- Run CIFAR-10 Experiments ----\n",
    "# Baseline Accuracy\n",
    "cifar_baseline = baseline_accuracy(cifar_train, cifar_val_loader, dataset_size=10000)\n",
    "\n",
    "# Active Learning Accuracy\n",
    "cifar_al_datapoints, cifar_al_accuracies = active_learning_accuracy(\n",
    "    cifar_train, cifar_val_loader, initial_size=initial_size, max_datapoints=max_datapoints, points_per_step=points_per_step\n",
    ")\n",
    "\n",
    "# ---- Plot Results ----\n",
    "import matplotlib.pyplot as plt\n",
    "\n",
    "plt.figure(figsize=(12, 6))\n",
    "plt.plot(cifar_al_datapoints, cifar_al_accuracies, label='CIFAR-10 AL Accuracy', linestyle='--', color='blue', marker='o')\n",
    "plt.axhline(y=cifar_baseline, color='red', linestyle='dotted', label='Baseline Accuracy')\n",
    "plt.xlabel('Number of Labeled Data Points', fontsize=14)\n",
    "plt.ylabel('Validation Accuracy (%)', fontsize=14)\n",
    "plt.title('CIFAR-10: AL Accuracy vs Baseline', fontsize=16)\n",
    "plt.legend(fontsize=12)\n",
    "plt.grid()\n",
    "plt.show()\n"
   ]
  },
  {
   "cell_type": "code",
   "execution_count": null,
   "id": "681fdca9",
   "metadata": {},
   "outputs": [],
   "source": []
  }
 ],
 "metadata": {
  "kernelspec": {
   "display_name": "Python 3",
   "language": "python",
   "name": "python3"
  },
  "language_info": {
   "codemirror_mode": {
    "name": "ipython",
    "version": 3
   },
   "file_extension": ".py",
   "mimetype": "text/x-python",
   "name": "python",
   "nbconvert_exporter": "python",
   "pygments_lexer": "ipython3",
   "version": "3.8.8"
  }
 },
 "nbformat": 4,
 "nbformat_minor": 5
}
